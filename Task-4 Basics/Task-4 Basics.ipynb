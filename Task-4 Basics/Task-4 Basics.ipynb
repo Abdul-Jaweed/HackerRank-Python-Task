{
 "cells": [
  {
   "cell_type": "markdown",
   "id": "ccbdb1c3",
   "metadata": {},
   "source": [
    "# Innomatics Research Lab\n",
    "# Data Science Internship\n",
    "# Candidate Name : Abdul Jaweed\n",
    "# Feb 2023 Batch"
   ]
  },
  {
   "cell_type": "markdown",
   "id": "d1655bb1",
   "metadata": {},
   "source": [
    "## Task - 4 (Basic Python - Strings)\n",
    "\n",
    "# HackerRank Task"
   ]
  },
  {
   "cell_type": "markdown",
   "id": "47f5df11",
   "metadata": {},
   "source": [
    "# Q1) sWAP cASE"
   ]
  },
  {
   "cell_type": "code",
   "execution_count": null,
   "id": "62bcd62c",
   "metadata": {},
   "outputs": [],
   "source": [
    "def ch(c):\n",
    "    if str.islower(c):\n",
    "        return str.upper(c)\n",
    "    else:\n",
    "        return str.lower(c)\n",
    "\n",
    "def swap_case(s):\n",
    "    return''.join(map(ch,s))\n",
    "\n",
    "if __name__ == '__main__':\n",
    "    s = input()\n",
    "    result = swap_case(s)\n",
    "    print(result)"
   ]
  },
  {
   "cell_type": "markdown",
   "id": "e83a2896",
   "metadata": {},
   "source": [
    "# Q2) String Split and Join"
   ]
  },
  {
   "cell_type": "code",
   "execution_count": null,
   "id": "cf9a381f",
   "metadata": {
    "scrolled": true
   },
   "outputs": [],
   "source": [
    "def split_and_join(line):\n",
    "    # write your code here\n",
    "    return'-'.join(line.split(\" \"))\n",
    "\n",
    "if __name__ == '__main__':\n",
    "    line = input()\n",
    "    result = split_and_join(line)\n",
    "    print(result)"
   ]
  },
  {
   "cell_type": "markdown",
   "id": "0cf52aa2",
   "metadata": {},
   "source": [
    "# Q3) What's Your Name?"
   ]
  },
  {
   "cell_type": "code",
   "execution_count": null,
   "id": "60abb35a",
   "metadata": {},
   "outputs": [],
   "source": [
    "def print_full_name(first, last):\n",
    "    # Write your code here\n",
    "    print(\"Hello \"+first+\" \"+last+\"! You just delved into python.\")\n",
    "\n",
    "if __name__ == '__main__':\n",
    "    first_name = input()\n",
    "    last_name = input()\n",
    "    print_full_name(first_name, last_name)"
   ]
  },
  {
   "cell_type": "markdown",
   "id": "82bb56bf",
   "metadata": {},
   "source": [
    "# Q4) Mutations"
   ]
  },
  {
   "cell_type": "code",
   "execution_count": null,
   "id": "9797710d",
   "metadata": {},
   "outputs": [],
   "source": [
    "def mutate_string(string, position, character):\n",
    "    return string[:position]+character+string[position+1:]\n",
    "\n",
    "if __name__ == '__main__':\n",
    "    s = input()\n",
    "    i, c = input().split()\n",
    "    s_new = mutate_string(s, int(i), c)\n",
    "    print(s_new)"
   ]
  },
  {
   "cell_type": "markdown",
   "id": "f89326bf",
   "metadata": {},
   "source": [
    "# Q5) Find a string"
   ]
  },
  {
   "cell_type": "code",
   "execution_count": null,
   "id": "5df885ff",
   "metadata": {},
   "outputs": [],
   "source": [
    "def count_substring(string, sub_string):\n",
    "    mlength=len(string)\n",
    "    slength=len(sub_string)\n",
    "    count = 0\n",
    "    \n",
    "    for i in range(mlength-slength+1):\n",
    "        if(string[i:(i+slength)]==sub_string):\n",
    "            count=count+1\n",
    "    return count\n",
    "\n",
    "if __name__ == '__main__':\n",
    "    string = input().strip()\n",
    "    sub_string = input().strip()\n",
    "    \n",
    "    count = count_substring(string, sub_string)\n",
    "    print(count)"
   ]
  },
  {
   "cell_type": "markdown",
   "id": "80761dd1",
   "metadata": {},
   "source": [
    "# Q6) String Validators"
   ]
  },
  {
   "cell_type": "code",
   "execution_count": null,
   "id": "6b5d81cb",
   "metadata": {},
   "outputs": [],
   "source": [
    "if __name__ == '__main__':\n",
    "    a = input()\n",
    "    \n",
    "    print(any([i.isalnum() for i in a]))\n",
    "    print(any([i.isalpha() for i in a]))\n",
    "    print(any([i.isdigit() for i in a]))\n",
    "    print(any([i.islower() for i in a]))\n",
    "    print(any([i.isupper() for i in a]))"
   ]
  },
  {
   "cell_type": "markdown",
   "id": "c5b62cee",
   "metadata": {},
   "source": [
    "# Q7) Text Alignment"
   ]
  },
  {
   "cell_type": "code",
   "execution_count": null,
   "id": "44eed0ea",
   "metadata": {},
   "outputs": [],
   "source": [
    "#Replace all ______ with rjust, ljust or center. \n",
    "\n",
    "thickness = int(input()) #This must be an odd number\n",
    "c = 'H'\n",
    "\n",
    "#Top Cone\n",
    "for i in range(thickness):\n",
    "    print((c*i).rjust(thickness-1)+c+(c*i).ljust(thickness-1))\n",
    "\n",
    "#Top Pillars\n",
    "for i in range(thickness+1):\n",
    "    print((c*thickness).center(thickness*2)+(c*thickness).center(thickness*6))\n",
    "\n",
    "#Middle Belt\n",
    "for i in range((thickness+1)//2):\n",
    "    print((c*thickness*5).center(thickness*6))    \n",
    "\n",
    "#Bottom Pillars\n",
    "for i in range(thickness+1):\n",
    "    print((c*thickness).center(thickness*2)+(c*thickness).center(thickness*6))    \n",
    "\n",
    "#Bottom Cone\n",
    "for i in range(thickness):\n",
    "    print(((c*(thickness-i-1)).rjust(thickness)+c+(c*(thickness-i-1)).ljust(thickness)).rjust(thickness*6))"
   ]
  },
  {
   "cell_type": "markdown",
   "id": "e2be9e8e",
   "metadata": {},
   "source": [
    "# Q8) Text Wrap"
   ]
  },
  {
   "cell_type": "code",
   "execution_count": null,
   "id": "003dd23c",
   "metadata": {},
   "outputs": [],
   "source": [
    "import textwrap\n",
    "\n",
    "def wrap(string, max_width):\n",
    "    return textwrap.fill(string, max_width)\n",
    "\n",
    "if __name__ == '__main__':\n",
    "    string, max_width = input(), int(input())\n",
    "    result = wrap(string, max_width)\n",
    "    print(result)"
   ]
  },
  {
   "cell_type": "markdown",
   "id": "ce351d26",
   "metadata": {},
   "source": [
    "# Q9) Designer Door Mat"
   ]
  },
  {
   "cell_type": "code",
   "execution_count": null,
   "id": "db040809",
   "metadata": {},
   "outputs": [],
   "source": [
    "import math\n",
    "N, M = map(int, input().split()) \n",
    "for i in range(0,math.floor(N/2)): \n",
    "    s='.|.'*i\n",
    "    print (s.rjust(math.floor((M-2)/2),'-')+'.|.'+('.|.'*i).ljust(math.floor((M-2)/2),'-'))\n",
    "print ('WELCOME'.center(M,'-'))\n",
    "for i in reversed(range(0,math.floor(N/2))): \n",
    "    s='.|.'*i\n",
    "    print (s.rjust(math.floor((M-2)/2),'-')+'.|.'+('.|.'*i).ljust(math.floor((M-2)/2),'-'))"
   ]
  },
  {
   "cell_type": "markdown",
   "id": "fbaff76e",
   "metadata": {},
   "source": [
    "# Q10) String Formatting"
   ]
  },
  {
   "cell_type": "code",
   "execution_count": null,
   "id": "ca9d885b",
   "metadata": {},
   "outputs": [],
   "source": [
    "ddef print_formatted(number):\n",
    "    nbin = format(number,'b')\n",
    "    size = len(nbin)\n",
    "    for i in range(1,n+1):\n",
    "        octa = format(i,'o')\n",
    "        hexa = format(i,'X')\n",
    "        bina = format(i,'b')\n",
    "        \n",
    "        print(str(i).rjust(size),str(octa).rjust(size),str(hexa).rjust(size),str(bina).rjust(size))\n",
    "if __name__ == '__main__':\n",
    "    n = int(input())\n",
    "    print_formatted(n)"
   ]
  },
  {
   "cell_type": "markdown",
   "id": "1d4f4bb0",
   "metadata": {},
   "source": [
    "# Q11) Alphabet Rangoli"
   ]
  },
  {
   "cell_type": "code",
   "execution_count": null,
   "id": "c3629f20",
   "metadata": {},
   "outputs": [],
   "source": [
    "alpha = \"abcdefghijklmnopqrstuvwxyz\"\n",
    "    data = [alpha[i] for i in range(size)]\n",
    "    items = list(range(size))\n",
    "    items = items[:-1]+items[::-1]\n",
    "    for i in items:\n",
    "        temp = data[-(i+1):]\n",
    "        row = temp[::-1]+temp[1:]\n",
    "        print(\"-\".join(row).center(n*4-3, \"-\"))"
   ]
  },
  {
   "cell_type": "markdown",
   "id": "9cc52645",
   "metadata": {},
   "source": [
    "# Q12) Capitalize!"
   ]
  },
  {
   "cell_type": "code",
   "execution_count": null,
   "id": "f8a50d0f",
   "metadata": {},
   "outputs": [],
   "source": [
    "\n",
    "# Complete the solve function below.\n",
    "def solve(s):\n",
    "    l=s.split(\" \")\n",
    "    s=''\n",
    "    for i in l:\n",
    "        s=s+i.capitalize()+' '\n",
    "    return s\n",
    "\n",
    "if __name__ == '__main__':\n",
    "    fptr = open(os.environ['OUTPUT_PATH'], 'w')\n",
    "\n",
    "    s = input()\n",
    "\n",
    "    result = solve(s)\n",
    "\n",
    "    fptr.write(result + '\\n')\n",
    "\n",
    "    fptr.close()\n"
   ]
  },
  {
   "cell_type": "markdown",
   "id": "9d581a96",
   "metadata": {},
   "source": [
    "# Q13) The Minion Game"
   ]
  },
  {
   "cell_type": "code",
   "execution_count": null,
   "id": "b9bef98d",
   "metadata": {},
   "outputs": [],
   "source": [
    "def minion_game(string):\n",
    "    # your code goes here\n",
    "    length = len(string)\n",
    "    vow = 0\n",
    "    con = 0\n",
    "    for i in range(length):\n",
    "        if(string[i] in 'AEIOU'):\n",
    "            vow=vow+(length-i)\n",
    "        else:\n",
    "            con=con+(length-i)\n",
    "    if(con>vow):\n",
    "        print(\"Stuart {}\".format(con))\n",
    "    elif(con==vow):\n",
    "        print(\"Draw\")\n",
    "    else:\n",
    "        print(\"Kevin {}\".format(vow))\n",
    "\n",
    "        \n",
    "if __name__ == '__main__':\n",
    "    s = input()\n",
    "    minion_game(s)"
   ]
  },
  {
   "cell_type": "markdown",
   "id": "cbb9003c",
   "metadata": {},
   "source": [
    "# Q14) Merge the Tools!"
   ]
  },
  {
   "cell_type": "code",
   "execution_count": null,
   "id": "8590b556",
   "metadata": {},
   "outputs": [],
   "source": [
    "def merge_the_tools(string, k):\n",
    "    # your code goes here\n",
    "    str = ''\n",
    "    count = 0\n",
    "    for i in string:\n",
    "        if i not in str:\n",
    "            str=str+i\n",
    "        count=count+1\n",
    "        if(count==k):\n",
    "            count=0\n",
    "            print(str)\n",
    "            str=''    \n",
    "    \n",
    "\n",
    "if __name__ == '__main__':\n",
    "    string, k = input(), int(input())\n",
    "    merge_the_tools(string, k)"
   ]
  },
  {
   "cell_type": "code",
   "execution_count": null,
   "id": "5b1147b2",
   "metadata": {},
   "outputs": [],
   "source": []
  }
 ],
 "metadata": {
  "kernelspec": {
   "display_name": "Python 3 (ipykernel)",
   "language": "python",
   "name": "python3"
  },
  "language_info": {
   "codemirror_mode": {
    "name": "ipython",
    "version": 3
   },
   "file_extension": ".py",
   "mimetype": "text/x-python",
   "name": "python",
   "nbconvert_exporter": "python",
   "pygments_lexer": "ipython3",
   "version": "3.10.7"
  }
 },
 "nbformat": 4,
 "nbformat_minor": 5
}
