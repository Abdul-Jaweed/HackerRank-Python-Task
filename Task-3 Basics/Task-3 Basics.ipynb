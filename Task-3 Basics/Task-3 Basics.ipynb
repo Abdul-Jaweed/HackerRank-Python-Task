{
 "cells": [
  {
   "cell_type": "markdown",
   "id": "ccbdb1c3",
   "metadata": {},
   "source": [
    "# Innomatics Research Lab\n",
    "# Data Science Internship\n",
    "# Candidate Name : Abdul Jaweed\n",
    "# Feb 2023 Batch"
   ]
  },
  {
   "cell_type": "markdown",
   "id": "d1655bb1",
   "metadata": {},
   "source": [
    "## Task -3 (Python Maths)\n",
    "\n",
    "# HackerRank Task"
   ]
  },
  {
   "cell_type": "markdown",
   "id": "47f5df11",
   "metadata": {},
   "source": [
    "# Q1) Polar Coordinates"
   ]
  },
  {
   "cell_type": "code",
   "execution_count": null,
   "id": "62bcd62c",
   "metadata": {},
   "outputs": [],
   "source": [
    "import cmath\n",
    "c=complex(input().strip())\n",
    "for i in cmath.polar(c):\n",
    "    print(i)"
   ]
  },
  {
   "cell_type": "markdown",
   "id": "e83a2896",
   "metadata": {},
   "source": [
    "# Q2) Find Angle MBC"
   ]
  },
  {
   "cell_type": "code",
   "execution_count": null,
   "id": "cf9a381f",
   "metadata": {
    "scrolled": true
   },
   "outputs": [],
   "source": [
    "import math\n",
    "AB = int(input())\n",
    "BC = int(input())\n",
    "print(round(math.degrees(math.atan(AB/BC))),chr(176),sep='')"
   ]
  },
  {
   "cell_type": "markdown",
   "id": "0cf52aa2",
   "metadata": {},
   "source": [
    "# Q3) Interger Come In All Sizes"
   ]
  },
  {
   "cell_type": "code",
   "execution_count": null,
   "id": "60abb35a",
   "metadata": {},
   "outputs": [],
   "source": [
    "a = int(input())\n",
    "b = int(input())\n",
    "c = int(input())\n",
    "d = int(input())\n",
    "\n",
    "print(a**b+c**d)"
   ]
  },
  {
   "cell_type": "markdown",
   "id": "82bb56bf",
   "metadata": {},
   "source": [
    "# Q4) Mod Divmod"
   ]
  },
  {
   "cell_type": "code",
   "execution_count": null,
   "id": "9797710d",
   "metadata": {},
   "outputs": [],
   "source": [
    "a = int(input())\n",
    "b = int(input())\n",
    "\n",
    "print(a//b)\n",
    "print(a%b)\n",
    "print(divmod(a, b))"
   ]
  },
  {
   "cell_type": "markdown",
   "id": "f89326bf",
   "metadata": {},
   "source": [
    "# Q5) Power - Mod Power"
   ]
  },
  {
   "cell_type": "code",
   "execution_count": null,
   "id": "5df885ff",
   "metadata": {},
   "outputs": [],
   "source": [
    "a = int(input())\n",
    "b = int(input())\n",
    "m = int(input())\n",
    "\n",
    "print(pow(a,b))\n",
    "print(pow(a,b,m))"
   ]
  },
  {
   "cell_type": "markdown",
   "id": "80761dd1",
   "metadata": {},
   "source": [
    "# Q6) Triangle Quest "
   ]
  },
  {
   "cell_type": "code",
   "execution_count": null,
   "id": "6b5d81cb",
   "metadata": {},
   "outputs": [],
   "source": [
    "for i in range(1,int(input())): #More than 2 lines will result in 0 score. Do not leave a blank line also\n",
    "    print(i*(pow(10,i)//9))"
   ]
  },
  {
   "cell_type": "markdown",
   "id": "c5b62cee",
   "metadata": {},
   "source": [
    "# Q7) Triangle Quest 2"
   ]
  },
  {
   "cell_type": "code",
   "execution_count": null,
   "id": "44eed0ea",
   "metadata": {},
   "outputs": [],
   "source": [
    "for i in range(1,int(input())+1): #More than 2 lines will result in 0 score. Do not leave a blank line also\n",
    "    print(pow((pow(10,i)//9),2))"
   ]
  },
  {
   "cell_type": "code",
   "execution_count": null,
   "id": "dae5f099",
   "metadata": {},
   "outputs": [],
   "source": []
  }
 ],
 "metadata": {
  "kernelspec": {
   "display_name": "Python 3 (ipykernel)",
   "language": "python",
   "name": "python3"
  },
  "language_info": {
   "codemirror_mode": {
    "name": "ipython",
    "version": 3
   },
   "file_extension": ".py",
   "mimetype": "text/x-python",
   "name": "python",
   "nbconvert_exporter": "python",
   "pygments_lexer": "ipython3",
   "version": "3.10.7"
  }
 },
 "nbformat": 4,
 "nbformat_minor": 5
}
