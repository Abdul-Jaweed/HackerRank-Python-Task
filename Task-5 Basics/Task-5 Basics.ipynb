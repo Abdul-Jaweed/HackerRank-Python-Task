{
 "cells": [
  {
   "cell_type": "markdown",
   "id": "ccbdb1c3",
   "metadata": {},
   "source": [
    "# Innomatics Research Lab\n",
    "# Data Science Internship\n",
    "# Candidate Name : Abdul Jaweed\n",
    "# Feb 2023 Batch"
   ]
  },
  {
   "cell_type": "markdown",
   "id": "d1655bb1",
   "metadata": {},
   "source": [
    "## Task - 5 (RegEx)\n",
    "\n",
    "# HackerRank Task"
   ]
  },
  {
   "cell_type": "markdown",
   "id": "47f5df11",
   "metadata": {},
   "source": [
    "# Q1) Detect Floating Point Number"
   ]
  },
  {
   "cell_type": "code",
   "execution_count": null,
   "id": "62bcd62c",
   "metadata": {},
   "outputs": [],
   "source": [
    "import re \n",
    "n = int(input())\n",
    "\n",
    "pattern = r'^[+-]?[0-9]*\\.[0-9]+$'\n",
    "\n",
    "for i in range(n):\n",
    "    s = input()\n",
    "    print(bool(re.match(pattern, s)))"
   ]
  },
  {
   "cell_type": "markdown",
   "id": "e83a2896",
   "metadata": {},
   "source": [
    "# Q2)  Re.split()"
   ]
  },
  {
   "cell_type": "code",
   "execution_count": null,
   "id": "cf9a381f",
   "metadata": {
    "scrolled": true
   },
   "outputs": [],
   "source": [
    "regex_pattern = r\"[,.]+\"\t# Do not delete 'r'.\n",
    "\n",
    "import re\n",
    "print(\"\\n\".join(re.split(regex_pattern, input())))"
   ]
  },
  {
   "cell_type": "markdown",
   "id": "0cf52aa2",
   "metadata": {},
   "source": [
    "# Q3) Group(), Groups() & Groupdict()"
   ]
  },
  {
   "cell_type": "code",
   "execution_count": null,
   "id": "60abb35a",
   "metadata": {},
   "outputs": [],
   "source": [
    "import re\n",
    "\n",
    "a = input()\n",
    "pattern = r'([a-z A-Z 0-9])\\1'\n",
    "b = re.search(pattern, a)\n",
    "if b:\n",
    "    print(b.groups()[0])\n",
    "else:\n",
    "    print(-1)"
   ]
  },
  {
   "cell_type": "markdown",
   "id": "82bb56bf",
   "metadata": {},
   "source": [
    "# Q4) Re.findall() & Re.finditer()"
   ]
  },
  {
   "cell_type": "code",
   "execution_count": null,
   "id": "9797710d",
   "metadata": {},
   "outputs": [],
   "source": [
    "import re\n",
    "\n",
    "a = input()\n",
    "\n",
    "v = \"aeiou\"\n",
    "c = \"qwrtyupsdfghjklzxcybnm\"\n",
    "l = re.findall(r\"(?<=[%s])([%s]{2,})[%s]\" % (c, v, c), a, flags=re.IGNORECASE)\n",
    "#print(\"\\n\".join(l or -1))\n",
    "\n",
    "if not l:\n",
    "    print(-1)\n",
    "else:\n",
    "    for i in l:\n",
    "        print(i)"
   ]
  },
  {
   "cell_type": "markdown",
   "id": "f89326bf",
   "metadata": {},
   "source": [
    "# Q5) Re.start() & Re.end()"
   ]
  },
  {
   "cell_type": "code",
   "execution_count": null,
   "id": "5df885ff",
   "metadata": {},
   "outputs": [],
   "source": [
    "import re\n",
    "\n",
    "s = input()\n",
    "k = input()\n",
    "\n",
    "pattern = re.compile(k)\n",
    "m = pattern.search(s)\n",
    "\n",
    "if not m:\n",
    "    print(\"(-1, -1)\")\n",
    "else:\n",
    "    while m:\n",
    "        print(\"({0}, {1})\".format(m.start(), m.end() -1))\n",
    "        m = pattern.search(s, m.start() + 1)"
   ]
  },
  {
   "cell_type": "markdown",
   "id": "80761dd1",
   "metadata": {},
   "source": [
    "# Q6) Regex Substitution"
   ]
  },
  {
   "cell_type": "code",
   "execution_count": null,
   "id": "6b5d81cb",
   "metadata": {},
   "outputs": [],
   "source": [
    "import re\n",
    "\n",
    "pattern = r\"(?<= )(&&|\\|\\|)(?= )\"\n",
    "\n",
    "replacement = lambda x: \"and\" if x.group() == \"&&\" else \"or\"\n",
    "\n",
    "for i in range(int(input())):\n",
    "    s = input()\n",
    "    print(re.sub(pattern, replacement, s))"
   ]
  },
  {
   "cell_type": "markdown",
   "id": "c5b62cee",
   "metadata": {},
   "source": [
    "# Q7) Validating Roman Numerals"
   ]
  },
  {
   "cell_type": "code",
   "execution_count": null,
   "id": "44eed0ea",
   "metadata": {},
   "outputs": [],
   "source": [
    "thousand = 'M{0,3}'\n",
    "hundred = '(C[MD]|D?C{0,3})'\n",
    "ten = '(X[CL]|L?X{0,3})'\n",
    "digit = '(I[VX]|V?I{0,3})'\n",
    "regex_pattern = r\"%s%s%s%s$\" % (thousand, hundred, ten, digit)\n",
    "\n",
    "\n",
    "import re\n",
    "print(str(bool(re.match(regex_pattern, input()))))"
   ]
  },
  {
   "cell_type": "markdown",
   "id": "d8bc6390",
   "metadata": {},
   "source": [
    "# Q8) Validating and Parsing Email Addresses"
   ]
  },
  {
   "cell_type": "code",
   "execution_count": null,
   "id": "80fa2e89",
   "metadata": {},
   "outputs": [],
   "source": [
    "import re\n",
    "\n",
    "N = int(input())\n",
    "\n",
    "for i in range(N):\n",
    "    name, email = input().split()\n",
    "    pattern=\"<[a-z][a-zA-Z0-9\\-\\.\\_]+@[a-zA-Z]+\\.[a-zA-Z]{1,3}>\"\n",
    "    if bool(re.match(pattern, email)):\n",
    "        print(name,email)"
   ]
  },
  {
   "cell_type": "markdown",
   "id": "e2be9e8e",
   "metadata": {},
   "source": [
    "# Q9) Hex Color Code"
   ]
  },
  {
   "cell_type": "code",
   "execution_count": null,
   "id": "003dd23c",
   "metadata": {},
   "outputs": [],
   "source": [
    "import re\n",
    "\n",
    "n = int(input())\n",
    "in_css = False\n",
    "for i in range(n):\n",
    "    s = input()\n",
    "    if '{' in s:\n",
    "        in_css = True\n",
    "    elif '}' in s:\n",
    "        in_css = False\n",
    "    elif in_css:\n",
    "        for color in re.findall('#[0-9a-fA-F]{3,6}', s):\n",
    "            print(color)"
   ]
  },
  {
   "cell_type": "markdown",
   "id": "ce351d26",
   "metadata": {},
   "source": [
    "# Q10) HTML Parser - Part 1"
   ]
  },
  {
   "cell_type": "code",
   "execution_count": null,
   "id": "db040809",
   "metadata": {},
   "outputs": [],
   "source": [
    "from html.parser import HTMLParser\n",
    "\n",
    "N = int(input())\n",
    "class MyHTMLParser(HTMLParser): # Subclass\n",
    "    \n",
    "    def handle_starttag(self, tag, attributes):\n",
    "        print('Start :', tag)\n",
    "        for element in attributes:\n",
    "            print('->', element[0], '>', element[1])\n",
    "            \n",
    "    def handle_endtag(self, tag):\n",
    "        print('End   :', tag)\n",
    "        \n",
    "    def handle_startendtag(self, tag, attributes):\n",
    "        print('Empty :', tag)\n",
    "        for element in attributes:\n",
    "            print('->', element[0], '>', element[1])\n",
    "            \n",
    "Parser = MyHTMLParser()\n",
    "Parser.feed(''.join([input().strip() for i in range(0, N)]))"
   ]
  },
  {
   "cell_type": "markdown",
   "id": "fbaff76e",
   "metadata": {},
   "source": [
    "# Q11) HTML Parser - Part 2"
   ]
  },
  {
   "cell_type": "code",
   "execution_count": null,
   "id": "ca9d885b",
   "metadata": {},
   "outputs": [],
   "source": [
    "from html.parser import HTMLParser\n",
    "\n",
    "class MyHTMLParser(HTMLParser):\n",
    "\n",
    "    # HTML Parser - Part 2 in Python - Hacker Rank Solution START\n",
    "    def handle_comment(self, data):\n",
    "        if (len(data.split('\\n')) != 1):\n",
    "            print(\">>> Multi-line Comment\")\n",
    "        else:\n",
    "            print(\">>> Single-line Comment\")\n",
    "        print(data.replace(\"\\r\", \"\\n\"))\n",
    "    def handle_data(self, data):\n",
    "        if data.strip():\n",
    "            print(\">>> Data\")\n",
    "            print(data)\n",
    "    # HTML Parser - Part 2 in Python - Hacker Rank Solution END\n",
    "  \n",
    "html = \"\"       \n",
    "for i in range(int(input())):\n",
    "    html += input().rstrip()\n",
    "    html += '\\n'\n",
    "    \n",
    "parser = MyHTMLParser()\n",
    "parser.feed(html)\n",
    "parser.close()"
   ]
  },
  {
   "cell_type": "markdown",
   "id": "1d4f4bb0",
   "metadata": {},
   "source": [
    "# Q12) Detect HTML Tags, Attributes and Attribute Values"
   ]
  },
  {
   "cell_type": "code",
   "execution_count": null,
   "id": "c3629f20",
   "metadata": {},
   "outputs": [],
   "source": [
    "# Enter your code here. Read input from STDIN. Print output to STDOUT\n",
    "\n",
    "from html.parser import HTMLParser\n",
    "\n",
    "# Same approach as the HTML Parser 1 Challenge! Make a subclass and override methods\n",
    "N = int(input())\n",
    "class MyHTMLParser(HTMLParser):\n",
    "    def handle_starttag(self, tag, attributes):\n",
    "        print(tag)\n",
    "        [print('-> {} > {}'.format(*attribute)) for attribute in attributes]\n",
    "    \n",
    "html = '\\n'.join([input() for x in range(0, N)])  \n",
    "parser = MyHTMLParser()\n",
    "parser.feed(html)\n",
    "parser.close()"
   ]
  },
  {
   "cell_type": "markdown",
   "id": "9cc52645",
   "metadata": {},
   "source": [
    "# Q13) Validating UID"
   ]
  },
  {
   "cell_type": "code",
   "execution_count": null,
   "id": "f8a50d0f",
   "metadata": {},
   "outputs": [],
   "source": [
    "n = int(input())\n",
    "\n",
    "for i in range(n):\n",
    "    a = str(input())\n",
    "    c = 0\n",
    "    for i in a:\n",
    "        if(i.isupper):\n",
    "            c+=1\n",
    "    if (c>1):\n",
    "        d=0\n",
    "        for j in a:\n",
    "            if(j.isnumeric()):\n",
    "                d+=1\n",
    "        if(d>2):\n",
    "            if(a.isalnum()):\n",
    "                if(len(a)==10):\n",
    "                    t=0\n",
    "                    for k in a:\n",
    "                        for h in a:\n",
    "                            if(k==h):\n",
    "                                t+=1\n",
    "                    if(t==10):\n",
    "                        print(\"Valid\")\n",
    "                    else:\n",
    "                        print(\"Invalid\")\n",
    "                else:\n",
    "                    print(\"Invalid\")\n",
    "            else:\n",
    "                print(\"Invalid\")\n",
    "        else:\n",
    "            print(\"Invalid\")\n",
    "    else:\n",
    "        print(\"Invalid\")"
   ]
  },
  {
   "cell_type": "markdown",
   "id": "9d581a96",
   "metadata": {},
   "source": [
    "# Q14) Validation Credit Card Numbers"
   ]
  },
  {
   "cell_type": "code",
   "execution_count": null,
   "id": "b9bef98d",
   "metadata": {},
   "outputs": [],
   "source": [
    "import re\n",
    "\n",
    "for _ in range(int(input())):\n",
    "    num = input()\n",
    "\n",
    "    ok1 = bool(re.match(r\"^[456]\\d{15}$\", num))\n",
    "    ok2 = bool(re.match(r\"^[456]\\d{3}\\-\\d{4}\\-\\d{4}\\-\\d{4}$\", num))\n",
    "    num = num.replace(\"-\", \"\")\n",
    "    ok3 = bool(re.match(r\"(?!.*(\\d)(-?\\1){3})\", num))\n",
    "    if (ok1 or ok2) and ok3:\n",
    "        print(\"Valid\")\n",
    "    else:\n",
    "        print(\"Invalid\")"
   ]
  },
  {
   "cell_type": "markdown",
   "id": "cbb9003c",
   "metadata": {},
   "source": [
    "# Q15) Validating Postal Codes"
   ]
  },
  {
   "cell_type": "code",
   "execution_count": null,
   "id": "8590b556",
   "metadata": {},
   "outputs": [],
   "source": [
    "regex_integer_in_range = r\"^[1-9]\\d{5}$\"\t# Do not delete 'r'.\n",
    "regex_alternating_repetitive_digit_pair = r\"(?=(\\d)\\d\\1)\"\t# Do not delete 'r'.\n",
    "\n",
    "\n",
    "import re\n",
    "P = input()\n",
    "\n",
    "print (bool(re.match(regex_integer_in_range, P)) \n",
    "and len(re.findall(regex_alternating_repetitive_digit_pair, P)) < 2)"
   ]
  },
  {
   "cell_type": "markdown",
   "id": "88b4e667",
   "metadata": {},
   "source": [
    "# 16) Matrix Script"
   ]
  },
  {
   "cell_type": "code",
   "execution_count": null,
   "id": "9bbcfee2",
   "metadata": {},
   "outputs": [],
   "source": [
    "import math\n",
    "import os\n",
    "import random\n",
    "import re\n",
    "import sys\n",
    "\n",
    "\n",
    "\n",
    "first_multiple_input = input().rstrip().split()\n",
    "\n",
    "n = int(first_multiple_input[0])\n",
    "\n",
    "m = int(first_multiple_input[1])\n",
    "\n",
    "matrix = []\n",
    "\n",
    "for _ in range(n):\n",
    "    matrix_item = input()\n",
    "    matrix.append(matrix_item)\n",
    "\n",
    "decoded_message = \"\"\n",
    "for column in range(m):\n",
    "    for row in range(n):\n",
    "        decoded_message += matrix[row][column]        \n",
    "\n",
    "print(re.sub(r\"(?<=\\w)([^\\w]+)(?=\\w)\", \" \", decoded_message))"
   ]
  },
  {
   "cell_type": "markdown",
   "id": "7e0508b5",
   "metadata": {},
   "source": [
    "# 17) Validating Phone Numbers"
   ]
  },
  {
   "cell_type": "code",
   "execution_count": null,
   "id": "cfd66f59",
   "metadata": {},
   "outputs": [],
   "source": [
    "import re \n",
    "\n",
    "def checker(contact):\n",
    "    pattern = r\"[789]\\d{9}$\"\n",
    "    if re.match(pattern, contact):\n",
    "        return \"YES\"\n",
    "    else:\n",
    "        return \"NO\"\n",
    "    \n",
    "    \n",
    "a = int(input())\n",
    "\n",
    "for i in range(a):\n",
    "    print(checker(input()))"
   ]
  },
  {
   "cell_type": "code",
   "execution_count": null,
   "id": "4964fd33",
   "metadata": {},
   "outputs": [],
   "source": []
  }
 ],
 "metadata": {
  "kernelspec": {
   "display_name": "Python 3 (ipykernel)",
   "language": "python",
   "name": "python3"
  },
  "language_info": {
   "codemirror_mode": {
    "name": "ipython",
    "version": 3
   },
   "file_extension": ".py",
   "mimetype": "text/x-python",
   "name": "python",
   "nbconvert_exporter": "python",
   "pygments_lexer": "ipython3",
   "version": "3.10.7"
  }
 },
 "nbformat": 4,
 "nbformat_minor": 5
}
