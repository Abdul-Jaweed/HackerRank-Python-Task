{
 "cells": [
  {
   "cell_type": "markdown",
   "id": "ccbdb1c3",
   "metadata": {},
   "source": [
    "# Innomatics Research Lab\n",
    "# Data Science Internship\n",
    "# Candidate Name : Abdul Jaweed\n",
    "# Feb 2023 Batch"
   ]
  },
  {
   "cell_type": "markdown",
   "id": "d1655bb1",
   "metadata": {},
   "source": [
    "## Task -1 (Basics)\n",
    "\n",
    "# HackerRank Task"
   ]
  },
  {
   "cell_type": "markdown",
   "id": "47f5df11",
   "metadata": {},
   "source": [
    "# Q1) Say \"Hello, World! With Python\""
   ]
  },
  {
   "cell_type": "code",
   "execution_count": 2,
   "id": "62bcd62c",
   "metadata": {},
   "outputs": [
    {
     "name": "stdout",
     "output_type": "stream",
     "text": [
      "Hello, World!\n"
     ]
    }
   ],
   "source": [
    "print(\"Hello, World!\")"
   ]
  },
  {
   "cell_type": "markdown",
   "id": "e83a2896",
   "metadata": {},
   "source": [
    "# Q2) Python If-Else"
   ]
  },
  {
   "cell_type": "code",
   "execution_count": 8,
   "id": "cf9a381f",
   "metadata": {},
   "outputs": [
    {
     "name": "stdout",
     "output_type": "stream",
     "text": [
      "Enter the Number : 5\n",
      "Weird\n"
     ]
    }
   ],
   "source": [
    "n = int(input(\"Enter the Number : \"))\n",
    "\n",
    "if n%2!=0:\n",
    "    print(\"Weird\")\n",
    "elif n%2==0 and n>=2 and n<=5:\n",
    "    print(\"Not Weird\")\n",
    "elif n%2==0 and n>=6 and n<=20:\n",
    "    print(\"Weird\")\n",
    "else:\n",
    "    print(\"Not Weird\")"
   ]
  },
  {
   "cell_type": "markdown",
   "id": "0cf52aa2",
   "metadata": {},
   "source": [
    "# Q3) Arithmetic Operators"
   ]
  },
  {
   "cell_type": "code",
   "execution_count": 10,
   "id": "60abb35a",
   "metadata": {},
   "outputs": [
    {
     "name": "stdout",
     "output_type": "stream",
     "text": [
      "Enter the First Number6\n",
      "Enter the Second Number8\n",
      "14\n",
      "-2\n",
      "48\n"
     ]
    }
   ],
   "source": [
    "a = int(input(\"Enter the First Number\"))\n",
    "b = int(input(\"Enter the Second Number\"))\n",
    "\n",
    "print(a+b)\n",
    "print(a-b)\n",
    "print(a*b)"
   ]
  },
  {
   "cell_type": "markdown",
   "id": "82bb56bf",
   "metadata": {},
   "source": [
    "# Q4) Python: Division"
   ]
  },
  {
   "cell_type": "code",
   "execution_count": 11,
   "id": "9797710d",
   "metadata": {},
   "outputs": [
    {
     "name": "stdout",
     "output_type": "stream",
     "text": [
      "Enter the First Number5\n",
      "Enter the Second Number6\n",
      "0\n",
      "0.8333333333333334\n"
     ]
    }
   ],
   "source": [
    "a = int(input(\"Enter the First Number\"))\n",
    "b = int(input(\"Enter the Second Number\"))\n",
    "\n",
    "print(a//b)\n",
    "print(a/b)"
   ]
  },
  {
   "cell_type": "markdown",
   "id": "f89326bf",
   "metadata": {},
   "source": [
    "# Q5) Loop"
   ]
  },
  {
   "cell_type": "code",
   "execution_count": 14,
   "id": "5df885ff",
   "metadata": {},
   "outputs": [
    {
     "name": "stdout",
     "output_type": "stream",
     "text": [
      "Enter the Number5\n",
      "0\n",
      "1\n",
      "4\n",
      "9\n",
      "16\n"
     ]
    }
   ],
   "source": [
    "n = int(input(\"Enter the Number\"))\n",
    "m=0\n",
    "for i in range(m, n):\n",
    "    print(i**2)"
   ]
  },
  {
   "cell_type": "markdown",
   "id": "80761dd1",
   "metadata": {},
   "source": [
    "# Q6) Write a function"
   ]
  },
  {
   "cell_type": "code",
   "execution_count": 26,
   "id": "6b5d81cb",
   "metadata": {},
   "outputs": [
    {
     "name": "stdout",
     "output_type": "stream",
     "text": [
      "Enter the Year : 2004\n",
      "True\n"
     ]
    }
   ],
   "source": [
    "def is_leap(year):\n",
    "    leap = False\n",
    "    \n",
    "    if year%4==0:\n",
    "        leap = True\n",
    "    elif year%100==0:\n",
    "        leap = False\n",
    "    elif year%400==0:\n",
    "        leap = True\n",
    "    \n",
    "    return leap\n",
    "\n",
    "year = int(input(\"Enter the Year : \"))\n",
    "print(is_leap(year))"
   ]
  },
  {
   "cell_type": "markdown",
   "id": "c5b62cee",
   "metadata": {},
   "source": [
    "# Q7) Print Function"
   ]
  },
  {
   "cell_type": "code",
   "execution_count": 29,
   "id": "ee60fc3a",
   "metadata": {},
   "outputs": [
    {
     "name": "stdout",
     "output_type": "stream",
     "text": [
      "Enter the Number4\n",
      "1234"
     ]
    }
   ],
   "source": [
    "n = int(input(\"Enter the Number : \"))\n",
    "\n",
    "for i in range(n):\n",
    "    print(i+1, end=\"\")"
   ]
  },
  {
   "cell_type": "code",
   "execution_count": null,
   "id": "44eed0ea",
   "metadata": {},
   "outputs": [],
   "source": []
  }
 ],
 "metadata": {
  "kernelspec": {
   "display_name": "Python 3 (ipykernel)",
   "language": "python",
   "name": "python3"
  },
  "language_info": {
   "codemirror_mode": {
    "name": "ipython",
    "version": 3
   },
   "file_extension": ".py",
   "mimetype": "text/x-python",
   "name": "python",
   "nbconvert_exporter": "python",
   "pygments_lexer": "ipython3",
   "version": "3.10.7"
  }
 },
 "nbformat": 4,
 "nbformat_minor": 5
}
